{
 "cells": [
  {
   "cell_type": "code",
   "execution_count": 1,
   "metadata": {},
   "outputs": [],
   "source": [
    "import csv\n",
    "from bs4 import BeautifulSoup\n",
    "import pandas as pd\n",
    "import requests"
   ]
  },
  {
   "cell_type": "markdown",
   "metadata": {},
   "source": [
    "## SCRAPE PRODUCTS"
   ]
  },
  {
   "cell_type": "code",
   "execution_count": 2,
   "metadata": {},
   "outputs": [],
   "source": [
    "def get_links(table_tag):\n",
    "    links = []\n",
    "\n",
    "    for row_data in table_tag.select(\"tr\"):\n",
    "        link_tag = row_data.find('a', href=True)\n",
    "\n",
    "        if(link_tag == None):\n",
    "            continue\n",
    "\n",
    "        links.append('https://www.mapa.gob.es/app/consultafertilizante/' + link_tag.get('href'))  \n",
    "\n",
    "    return links  "
   ]
  },
  {
   "cell_type": "code",
   "execution_count": 3,
   "metadata": {},
   "outputs": [],
   "source": [
    "def get_products(url):\n",
    "    page = requests.get(url)\n",
    "    page.encoding='utf-8'\n",
    "    pagetext = page.text\n",
    "    tree = BeautifulSoup(pagetext)\n",
    "\n",
    "    table_tag = tree.select(\"table\")[1]\n",
    "    links = get_links(table_tag)\n",
    "    tab_data = [[item.text for item in row_data.select(\"th,td\")]\n",
    "                for row_data in table_tag.select(\"tr\")]\n",
    "\n",
    "    data = tab_data[2::]\n",
    "\n",
    "    for i in range(0,len(data)):\n",
    "        data[i].append(links[i])\n",
    "\n",
    "    return data\n"
   ]
  },
  {
   "cell_type": "code",
   "execution_count": 6,
   "metadata": {},
   "outputs": [],
   "source": [
    "base_url = 'https://www.mapa.gob.es/app/consultafertilizante/ListadoFertilizantes.aspx?Page='\n",
    "products = []\n",
    "n_pages = 70\n",
    "\n",
    "for i in range(0,n_pages + 1):\n",
    "    partial_products = get_products(base_url+str(i))\n",
    "    for p in partial_products:\n",
    "        products.append(p)"
   ]
  },
  {
   "cell_type": "code",
   "execution_count": 7,
   "metadata": {},
   "outputs": [
    {
     "data": {
      "text/plain": [
       "1412"
      ]
     },
     "execution_count": 7,
     "metadata": {},
     "output_type": "execute_result"
    }
   ],
   "source": [
    "len(products)"
   ]
  },
  {
   "cell_type": "code",
   "execution_count": 8,
   "metadata": {},
   "outputs": [
    {
     "data": {
      "text/plain": [
       "['F0000063/2021',\n",
       " 'Abono órgano-mineral NPK',\n",
       " 'BOY 12',\n",
       " 'JOSE FUSTE, S.A.',\n",
       " '27/04/2011',\n",
       " 'https://www.mapa.gob.es/app/consultafertilizante/DetalleFertilizante.aspx?clave=63']"
      ]
     },
     "execution_count": 8,
     "metadata": {},
     "output_type": "execute_result"
    }
   ],
   "source": [
    "products[0]"
   ]
  },
  {
   "cell_type": "markdown",
   "metadata": {},
   "source": [
    "## SCRAPE COMPOSITION"
   ]
  },
  {
   "cell_type": "code",
   "execution_count": 9,
   "metadata": {},
   "outputs": [],
   "source": [
    "components = ['Nitrógeno(N) Total', 'Anhidrido fosfórico (P2O5)', 'Óxido de potasio (K2O)', 'Boro (B)', 'Cobalto (Co)', 'Cobre (Cu)', 'Hierro (Fe)','Manganeso (Mn)', 'Molibdeno (Mb)','Cinc (Zn)']\n",
    "equivalencies = {\n",
    "    'Nitrógeno(N) Total': 'Nitrógeno (N)', \n",
    "    'Anhidrido fosfórico (P2O5)' : 'Fósforo (P)', \n",
    "    'Óxido de potasio (K2O)': 'Potasio (K)'\n",
    "}"
   ]
  },
  {
   "cell_type": "code",
   "execution_count": 10,
   "metadata": {},
   "outputs": [],
   "source": [
    "def get_composition(url):\n",
    "    global components\n",
    "    global equivalencies\n",
    "    page = requests.get(url)\n",
    "    page.encoding='utf-8'\n",
    "    pagetext = page.text\n",
    "\n",
    "    tree = BeautifulSoup(pagetext)\n",
    "    if(len(tree.select(\"table\"))>2):\n",
    "        table_tag = tree.select(\"table\")[3]\n",
    "        tab_data = [[item.text for item in row_data.select(\"th,td\")]\n",
    "                        for row_data in table_tag.select(\"tr\")]\n",
    "\n",
    "        composition = ''\n",
    "        for e in tab_data:\n",
    "            if(e[0] in components and e[1] != '-'):\n",
    "                if e[0] in equivalencies.keys():\n",
    "                    composition += e[1] +'% ' + equivalencies[e[0]] + '; '\n",
    "                else: \n",
    "                    composition += e[1] +'% ' + e[0] + '; '\n",
    "\n",
    "        return composition[0:-2]\n",
    "    else:\n",
    "        return None"
   ]
  },
  {
   "cell_type": "code",
   "execution_count": 11,
   "metadata": {},
   "outputs": [],
   "source": [
    "products_df = pd.DataFrame(products)\n",
    "products_df['Composicion'] = products_df.apply(lambda row: get_composition(row[5]), axis=1)\n",
    "products_df.columns= ['Código', 'Tipo', 'Nombre comercial', 'Fabricante', 'F. de registro', 'Url', 'Composicion']"
   ]
  },
  {
   "cell_type": "code",
   "execution_count": 12,
   "metadata": {},
   "outputs": [
    {
     "data": {
      "text/html": [
       "<div>\n",
       "<style scoped>\n",
       "    .dataframe tbody tr th:only-of-type {\n",
       "        vertical-align: middle;\n",
       "    }\n",
       "\n",
       "    .dataframe tbody tr th {\n",
       "        vertical-align: top;\n",
       "    }\n",
       "\n",
       "    .dataframe thead th {\n",
       "        text-align: right;\n",
       "    }\n",
       "</style>\n",
       "<table border=\"1\" class=\"dataframe\">\n",
       "  <thead>\n",
       "    <tr style=\"text-align: right;\">\n",
       "      <th></th>\n",
       "      <th>Código</th>\n",
       "      <th>Tipo</th>\n",
       "      <th>Nombre comercial</th>\n",
       "      <th>Fabricante</th>\n",
       "      <th>F. de registro</th>\n",
       "      <th>Url</th>\n",
       "      <th>Composicion</th>\n",
       "    </tr>\n",
       "  </thead>\n",
       "  <tbody>\n",
       "    <tr>\n",
       "      <th>0</th>\n",
       "      <td>F0000063/2021</td>\n",
       "      <td>Abono órgano-mineral NPK</td>\n",
       "      <td>BOY 12</td>\n",
       "      <td>JOSE FUSTE, S.A.</td>\n",
       "      <td>27/04/2011</td>\n",
       "      <td>https://www.mapa.gob.es/app/consultafertilizan...</td>\n",
       "      <td>6,0% Nitrógeno (N); 10,0% Fósforo (P); 6,0% Po...</td>\n",
       "    </tr>\n",
       "    <tr>\n",
       "      <th>1</th>\n",
       "      <td>F0000065/2021</td>\n",
       "      <td>Abono órgano-mineral NPK</td>\n",
       "      <td>BOY 10</td>\n",
       "      <td>JOSE FUSTE, S.A.</td>\n",
       "      <td>27/04/2011</td>\n",
       "      <td>https://www.mapa.gob.es/app/consultafertilizan...</td>\n",
       "      <td>5,0% Nitrógeno (N); 7,0% Fósforo (P); 10,0% Po...</td>\n",
       "    </tr>\n",
       "    <tr>\n",
       "      <th>2</th>\n",
       "      <td>F0000347/2028</td>\n",
       "      <td>Abono orgánico NPK de origen animal</td>\n",
       "      <td>HORTYFLOR</td>\n",
       "      <td>ESTEVENATUR, S.L.</td>\n",
       "      <td>09/04/2018</td>\n",
       "      <td>https://www.mapa.gob.es/app/consultafertilizan...</td>\n",
       "      <td>3,0% Nitrógeno (N); 3,0% Fósforo (P); 3,0% Pot...</td>\n",
       "    </tr>\n",
       "    <tr>\n",
       "      <th>3</th>\n",
       "      <td>F0000791/2028</td>\n",
       "      <td>Enmienda orgánica húmica</td>\n",
       "      <td>NATURCOMPLET</td>\n",
       "      <td>DAYMSA</td>\n",
       "      <td>27/03/2018</td>\n",
       "      <td>https://www.mapa.gob.es/app/consultafertilizan...</td>\n",
       "      <td>1,0% Hierro (Fe)</td>\n",
       "    </tr>\n",
       "    <tr>\n",
       "      <th>4</th>\n",
       "      <td>F0001455/2020</td>\n",
       "      <td>Enmienda orgánica húmica</td>\n",
       "      <td>CULTIVIT Fe</td>\n",
       "      <td>AGRIBECO, S.L.</td>\n",
       "      <td>07/07/2010</td>\n",
       "      <td>https://www.mapa.gob.es/app/consultafertilizan...</td>\n",
       "      <td>2,3% Nitrógeno (N); 1,8% Fósforo (P); 1,5% Pot...</td>\n",
       "    </tr>\n",
       "  </tbody>\n",
       "</table>\n",
       "</div>"
      ],
      "text/plain": [
       "          Código                                 Tipo Nombre comercial  \\\n",
       "0  F0000063/2021             Abono órgano-mineral NPK           BOY 12   \n",
       "1  F0000065/2021             Abono órgano-mineral NPK           BOY 10   \n",
       "2  F0000347/2028  Abono orgánico NPK de origen animal        HORTYFLOR   \n",
       "3  F0000791/2028             Enmienda orgánica húmica     NATURCOMPLET   \n",
       "4  F0001455/2020             Enmienda orgánica húmica      CULTIVIT Fe   \n",
       "\n",
       "          Fabricante F. de registro  \\\n",
       "0   JOSE FUSTE, S.A.     27/04/2011   \n",
       "1   JOSE FUSTE, S.A.     27/04/2011   \n",
       "2  ESTEVENATUR, S.L.     09/04/2018   \n",
       "3             DAYMSA     27/03/2018   \n",
       "4     AGRIBECO, S.L.     07/07/2010   \n",
       "\n",
       "                                                 Url  \\\n",
       "0  https://www.mapa.gob.es/app/consultafertilizan...   \n",
       "1  https://www.mapa.gob.es/app/consultafertilizan...   \n",
       "2  https://www.mapa.gob.es/app/consultafertilizan...   \n",
       "3  https://www.mapa.gob.es/app/consultafertilizan...   \n",
       "4  https://www.mapa.gob.es/app/consultafertilizan...   \n",
       "\n",
       "                                         Composicion  \n",
       "0  6,0% Nitrógeno (N); 10,0% Fósforo (P); 6,0% Po...  \n",
       "1  5,0% Nitrógeno (N); 7,0% Fósforo (P); 10,0% Po...  \n",
       "2  3,0% Nitrógeno (N); 3,0% Fósforo (P); 3,0% Pot...  \n",
       "3                                   1,0% Hierro (Fe)  \n",
       "4  2,3% Nitrógeno (N); 1,8% Fósforo (P); 1,5% Pot...  "
      ]
     },
     "execution_count": 12,
     "metadata": {},
     "output_type": "execute_result"
    }
   ],
   "source": [
    "products_df.head()"
   ]
  }
 ],
 "metadata": {
  "kernelspec": {
   "display_name": "Python 3",
   "language": "python",
   "name": "python3"
  },
  "language_info": {
   "codemirror_mode": {
    "name": "ipython",
    "version": 3
   },
   "file_extension": ".py",
   "mimetype": "text/x-python",
   "name": "python",
   "nbconvert_exporter": "python",
   "pygments_lexer": "ipython3",
   "version": "3.9.9"
  },
  "orig_nbformat": 2
 },
 "nbformat": 4,
 "nbformat_minor": 2
}
